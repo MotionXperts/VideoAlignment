{
 "cells": [
  {
   "cell_type": "markdown",
   "metadata": {},
   "source": [
    "# Embedded Size is really important, for example set the hidden size to 128 the model acc is only .1 %, while set to 8 model can be trained normally.\n",
    "## The same goes to the hidden size in the feedforward part."
   ]
  },
  {
   "cell_type": "code",
   "execution_count": 1,
   "metadata": {},
   "outputs": [
    {
     "name": "stderr",
     "output_type": "stream",
     "text": [
      "/home/c1l1mo/.local/lib/python3.7/site-packages/tqdm/auto.py:21: TqdmWarning: IProgress not found. Please update jupyter and ipywidgets. See https://ipywidgets.readthedocs.io/en/stable/user_install.html\n",
      "  from .autonotebook import tqdm as notebook_tqdm\n"
     ]
    }
   ],
   "source": [
    "import torchvision.models\n",
    "import torch\n",
    "\n",
    "import numpy as np\n",
    "\n",
    "from tqdm import tqdm, trange\n",
    "\n",
    "import torch\n",
    "import torch.nn as nn\n",
    "from torch.optim import Adam\n",
    "from torch.nn import CrossEntropyLoss\n",
    "from torch.utils.data import DataLoader\n",
    "\n",
    "from torchvision.transforms import ToTensor\n",
    "from torchvision.datasets.mnist import MNIST\n",
    "\n",
    "np.random.seed(0)\n",
    "torch.manual_seed(0)\n",
    "\n",
    "device = torch.device(\"cuda\")"
   ]
  },
  {
   "cell_type": "code",
   "execution_count": 2,
   "metadata": {},
   "outputs": [],
   "source": [
    "vit16 = torchvision.models.vit_b_16()\n",
    "transform = ToTensor()\n",
    "\n",
    "train_set = MNIST(root='./../datasets', train=True, download=True, transform=transform)\n",
    "test_set = MNIST(root='./../datasets', train=False, download=True, transform=transform)\n",
    "\n",
    "train_loader = DataLoader(train_set, shuffle=True, batch_size=128)\n",
    "test_loader = DataLoader(test_set, shuffle=False, batch_size=128)"
   ]
  },
  {
   "cell_type": "code",
   "execution_count": 3,
   "metadata": {},
   "outputs": [],
   "source": [
    "import torch.nn as nn\n",
    "\n",
    "class Attention(nn.Module):\n",
    "  def __init__(self,embed_size,dout,heads=4):\n",
    "    super().__init__()\n",
    "    self.Q2d = nn.Linear(embed_size,embed_size)\n",
    "    self.K2d = nn.Linear(embed_size,embed_size)\n",
    "    self.V2d = nn.Linear(embed_size,embed_size)\n",
    "    self.d2O = nn.Linear(embed_size,embed_size)\n",
    "    \n",
    "    assert embed_size % heads == 0\n",
    "    self.heads = heads\n",
    "    self.h_dim = embed_size // heads\n",
    "    self.drop_out = nn.Dropout(dout)\n",
    "  def forward(self,Q,K,V,mask=None):\n",
    "    B , T , D = Q.shape\n",
    "    Q = self.Q2d(Q)\n",
    "    K = self.K2d(K)\n",
    "    V = self.V2d(V)\n",
    "    Q = Q.reshape(B,T,self.heads,self.h_dim)\n",
    "    K = K.reshape(B,T,self.heads,self.h_dim)\n",
    "    V = V.reshape(B,T,self.heads,self.h_dim)\n",
    "    attention = torch.einsum(\"bqhd,bkhd->bhqk\",[Q,K])\n",
    "    attention = attention / (D**(1/2))\n",
    "    if mask is not None:\n",
    "      attention = attention.masked_fill(mask,-float(\"inf\"))\n",
    "    attention = torch.softmax(attention,dim=-1)\n",
    "    out = torch.einsum(\"bhqk,bkhd->bqhd\",[attention,V])\n",
    "    out = self.drop_out(out)\n",
    "    out = out.reshape(B,T,D)\n",
    "    out = self.d2O(out)\n",
    "    return out\n",
    "\n",
    "class ResidualNetwork(nn.Module):\n",
    "  def __init__(self,embed_size,dout):\n",
    "    super().__init__()\n",
    "    self.ln = nn.LayerNorm(embed_size)\n",
    "    self.drop_out = nn.Dropout(dout)\n",
    "  def forward(self,x,sublayer):    \n",
    "    res = self.ln(x)\n",
    "    res = sublayer(res)\n",
    "    res = self.drop_out(res)\n",
    "    return x + res\n",
    "\n",
    "class EncoderLayer(nn.Module):\n",
    "  def __init__(self,embed_size,dout):\n",
    "    super().__init__()\n",
    "    self.residual = ResidualNetwork(embed_size,dout)\n",
    "    self.attention = Attention(embed_size,dout)\n",
    "    self.feedforward = nn.Sequential(\n",
    "        nn.Linear(embed_size,32),\n",
    "        nn.ReLU(True),\n",
    "        nn.Dropout(dout),\n",
    "        nn.Linear(32,embed_size),\n",
    "    )\n",
    "  def forward(self,x,mask=None):\n",
    "    x = self.residual(x,lambda x:self.attention(x,x,x,mask))\n",
    "    x = self.residual(x,self.feedforward)\n",
    "    return x\n",
    "\n",
    "\n",
    "def get_positional_embedding(seq,embed_size):\n",
    "  mat = torch.ones(seq,embed_size)\n",
    "  for k in range(seq):\n",
    "    for i in range(embed_size // 2):\n",
    "      denominator = 10000 ** (2*i / embed_size)\n",
    "      mat[k,2*i] = np.sin(k/denominator)\n",
    "      mat[k,2*i + 1] = np.cos(k/denominator)\n",
    "  return mat\n",
    "\n",
    "class vit(nn.Module):\n",
    "  def __init__(self,embed_size,dout=.1,out_size=10):\n",
    "    super().__init__()\n",
    "    self.conv2d = nn.Conv2d(1,16,kernel_size=(4,4),stride=4,bias=False)\n",
    "    self.embed_size = embed_size\n",
    "    self.mapping = nn.Linear(16,embed_size)\n",
    "    self.cls_token = nn.Parameter(torch.rand(1,embed_size).to(device))\n",
    "    self.EncodingLayer = nn.ModuleList([EncoderLayer(embed_size,dout) for _ in range(3)])\n",
    "    self.mlp = nn.Sequential(\n",
    "        nn.Linear(embed_size,out_size),\n",
    "        nn.Softmax(dim=-1)\n",
    "    )\n",
    "  def forward(self,x,mask=None):\n",
    "    B ,_, _ , _ = x.shape\n",
    "    x = self.conv2d(x)\n",
    "    x = x.reshape(x.size(0),x.size(1),-1).permute(0,2,1)\n",
    "    x = self.mapping(x)\n",
    "    x = torch.cat((self.cls_token.expand(B,1,-1),x),dim=1)\n",
    "\n",
    "    \n",
    "    x += get_positional_embedding(x.size(1),self.embed_size).to(device)\n",
    "    for encodingLayer in self.EncodingLayer:\n",
    "        x = encodingLayer(x)\n",
    "\n",
    "    x = x[:,0]\n",
    "    x = self.mlp(x)\n",
    "    return x"
   ]
  },
  {
   "cell_type": "code",
   "execution_count": 5,
   "metadata": {},
   "outputs": [
    {
     "name": "stderr",
     "output_type": "stream",
     "text": [
      "100%|███████████████████████████████████████████████████████████████████████████████████████████████████████████████████████████████████████████████████████████████████████████████| 469/469 [00:16<00:00, 28.01it/s]\n"
     ]
    },
    {
     "name": "stdout",
     "output_type": "stream",
     "text": [
      "epoch 0: loss 2.091839551925659\n"
     ]
    },
    {
     "name": "stderr",
     "output_type": "stream",
     "text": [
      "100%|███████████████████████████████████████████████████████████████████████████████████████████████████████████████████████████████████████████████████████████████████████████████| 469/469 [00:14<00:00, 31.64it/s]\n"
     ]
    },
    {
     "name": "stdout",
     "output_type": "stream",
     "text": [
      "epoch 1: loss 1.9185839891433716\n"
     ]
    },
    {
     "name": "stderr",
     "output_type": "stream",
     "text": [
      "100%|███████████████████████████████████████████████████████████████████████████████████████████████████████████████████████████████████████████████████████████████████████████████| 469/469 [00:14<00:00, 31.67it/s]\n"
     ]
    },
    {
     "name": "stdout",
     "output_type": "stream",
     "text": [
      "epoch 2: loss 1.851119041442871\n"
     ]
    },
    {
     "name": "stderr",
     "output_type": "stream",
     "text": [
      "100%|███████████████████████████████████████████████████████████████████████████████████████████████████████████████████████████████████████████████████████████████████████████████| 469/469 [00:14<00:00, 31.61it/s]\n"
     ]
    },
    {
     "name": "stdout",
     "output_type": "stream",
     "text": [
      "epoch 3: loss 1.7294912338256836\n"
     ]
    },
    {
     "name": "stderr",
     "output_type": "stream",
     "text": [
      "100%|███████████████████████████████████████████████████████████████████████████████████████████████████████████████████████████████████████████████████████████████████████████████| 469/469 [00:18<00:00, 24.70it/s]\n"
     ]
    },
    {
     "name": "stdout",
     "output_type": "stream",
     "text": [
      "epoch 4: loss 1.771735668182373\n"
     ]
    },
    {
     "name": "stderr",
     "output_type": "stream",
     "text": [
      "100%|███████████████████████████████████████████████████████████████████████████████████████████████████████████████████████████████████████████████████████████████████████████████| 469/469 [00:19<00:00, 24.45it/s]\n"
     ]
    },
    {
     "name": "stdout",
     "output_type": "stream",
     "text": [
      "epoch 5: loss 1.6953045129776\n"
     ]
    },
    {
     "name": "stderr",
     "output_type": "stream",
     "text": [
      "100%|███████████████████████████████████████████████████████████████████████████████████████████████████████████████████████████████████████████████████████████████████████████████| 469/469 [00:18<00:00, 24.81it/s]\n"
     ]
    },
    {
     "name": "stdout",
     "output_type": "stream",
     "text": [
      "epoch 6: loss 1.6780729293823242\n"
     ]
    },
    {
     "name": "stderr",
     "output_type": "stream",
     "text": [
      "100%|███████████████████████████████████████████████████████████████████████████████████████████████████████████████████████████████████████████████████████████████████████████████| 469/469 [00:18<00:00, 24.72it/s]\n"
     ]
    },
    {
     "name": "stdout",
     "output_type": "stream",
     "text": [
      "epoch 7: loss 1.6879863739013672\n"
     ]
    },
    {
     "name": "stderr",
     "output_type": "stream",
     "text": [
      "100%|███████████████████████████████████████████████████████████████████████████████████████████████████████████████████████████████████████████████████████████████████████████████| 469/469 [00:18<00:00, 24.74it/s]\n"
     ]
    },
    {
     "name": "stdout",
     "output_type": "stream",
     "text": [
      "epoch 8: loss 1.6995078325271606\n"
     ]
    },
    {
     "name": "stderr",
     "output_type": "stream",
     "text": [
      "100%|███████████████████████████████████████████████████████████████████████████████████████████████████████████████████████████████████████████████████████████████████████████████| 469/469 [00:18<00:00, 24.79it/s]\n"
     ]
    },
    {
     "name": "stdout",
     "output_type": "stream",
     "text": [
      "epoch 9: loss 1.702780842781067\n"
     ]
    },
    {
     "name": "stderr",
     "output_type": "stream",
     "text": [
      "100%|███████████████████████████████████████████████████████████████████████████████████████████████████████████████████████████████████████████████████████████████████████████████| 469/469 [00:18<00:00, 24.74it/s]\n"
     ]
    },
    {
     "name": "stdout",
     "output_type": "stream",
     "text": [
      "epoch 10: loss 1.6188205480575562\n"
     ]
    },
    {
     "name": "stderr",
     "output_type": "stream",
     "text": [
      "100%|███████████████████████████████████████████████████████████████████████████████████████████████████████████████████████████████████████████████████████████████████████████████| 469/469 [00:18<00:00, 24.76it/s]\n"
     ]
    },
    {
     "name": "stdout",
     "output_type": "stream",
     "text": [
      "epoch 11: loss 1.625200867652893\n"
     ]
    },
    {
     "name": "stderr",
     "output_type": "stream",
     "text": [
      "100%|███████████████████████████████████████████████████████████████████████████████████████████████████████████████████████████████████████████████████████████████████████████████| 469/469 [00:18<00:00, 25.08it/s]\n"
     ]
    },
    {
     "name": "stdout",
     "output_type": "stream",
     "text": [
      "epoch 12: loss 1.57590913772583\n"
     ]
    },
    {
     "name": "stderr",
     "output_type": "stream",
     "text": [
      "100%|███████████████████████████████████████████████████████████████████████████████████████████████████████████████████████████████████████████████████████████████████████████████| 469/469 [00:18<00:00, 24.69it/s]\n"
     ]
    },
    {
     "name": "stdout",
     "output_type": "stream",
     "text": [
      "epoch 13: loss 1.6603741645812988\n"
     ]
    },
    {
     "name": "stderr",
     "output_type": "stream",
     "text": [
      "100%|███████████████████████████████████████████████████████████████████████████████████████████████████████████████████████████████████████████████████████████████████████████████| 469/469 [00:19<00:00, 24.65it/s]\n"
     ]
    },
    {
     "name": "stdout",
     "output_type": "stream",
     "text": [
      "epoch 14: loss 1.623246669769287\n"
     ]
    },
    {
     "name": "stderr",
     "output_type": "stream",
     "text": [
      "100%|███████████████████████████████████████████████████████████████████████████████████████████████████████████████████████████████████████████████████████████████████████████████| 469/469 [00:19<00:00, 24.61it/s]\n"
     ]
    },
    {
     "name": "stdout",
     "output_type": "stream",
     "text": [
      "epoch 15: loss 1.73979914188385\n"
     ]
    },
    {
     "name": "stderr",
     "output_type": "stream",
     "text": [
      "100%|███████████████████████████████████████████████████████████████████████████████████████████████████████████████████████████████████████████████████████████████████████████████| 469/469 [00:19<00:00, 24.65it/s]\n"
     ]
    },
    {
     "name": "stdout",
     "output_type": "stream",
     "text": [
      "epoch 16: loss 1.6047295331954956\n"
     ]
    },
    {
     "name": "stderr",
     "output_type": "stream",
     "text": [
      "100%|███████████████████████████████████████████████████████████████████████████████████████████████████████████████████████████████████████████████████████████████████████████████| 469/469 [00:19<00:00, 24.63it/s]\n"
     ]
    },
    {
     "name": "stdout",
     "output_type": "stream",
     "text": [
      "epoch 17: loss 1.5809211730957031\n"
     ]
    },
    {
     "name": "stderr",
     "output_type": "stream",
     "text": [
      "100%|███████████████████████████████████████████████████████████████████████████████████████████████████████████████████████████████████████████████████████████████████████████████| 469/469 [00:18<00:00, 24.82it/s]\n"
     ]
    },
    {
     "name": "stdout",
     "output_type": "stream",
     "text": [
      "epoch 18: loss 1.6382713317871094\n"
     ]
    },
    {
     "name": "stderr",
     "output_type": "stream",
     "text": [
      "100%|███████████████████████████████████████████████████████████████████████████████████████████████████████████████████████████████████████████████████████████████████████████████| 469/469 [00:13<00:00, 34.13it/s]"
     ]
    },
    {
     "name": "stdout",
     "output_type": "stream",
     "text": [
      "epoch 19: loss 1.6087785959243774\n"
     ]
    },
    {
     "name": "stderr",
     "output_type": "stream",
     "text": [
      "\n"
     ]
    }
   ],
   "source": [
    "model = vit(8).to(device)\n",
    "optimizer = torch.optim.Adam(model.parameters(),lr=0.005) #,betas=(0.9,0.999),weight_decay=.001)\n",
    "# scheduler = torch.optim.lr_scheduler.CosineAnnealingLR(optimizer,T_max=5,eta_min=0,last_epoch=-1)\n",
    "criterion = nn.CrossEntropyLoss()\n",
    "\n",
    "for epoch in range(20):\n",
    "    total_loss = 0\n",
    "    for batch in tqdm(train_loader):\n",
    "        optimizer.zero_grad()\n",
    "        x,y = batch\n",
    "        x , y = x.to(device),y.to(device)\n",
    "        pred = model(x)\n",
    "        loss = criterion(pred,y)\n",
    "        total_loss += loss.detach().item() / len(train_loader)\n",
    "        loss.backward()\n",
    "        optimizer.step()\n",
    "    print(f\"epoch {epoch}: loss {loss}\")\n",
    "    # scheduler.step()\n"
   ]
  },
  {
   "cell_type": "code",
   "execution_count": 6,
   "metadata": {},
   "outputs": [
    {
     "name": "stderr",
     "output_type": "stream",
     "text": [
      "Testing: 100%|████████████████████████████████████████████████████████████████████████████████████████████████████████████████████████████████████████████████████████████████████████| 79/79 [00:01<00:00, 67.99it/s]"
     ]
    },
    {
     "name": "stdout",
     "output_type": "stream",
     "text": [
      "Test loss: 1.61\n",
      "Test accuracy: 85.17%\n"
     ]
    },
    {
     "name": "stderr",
     "output_type": "stream",
     "text": [
      "\n"
     ]
    }
   ],
   "source": [
    "# Test loop\n",
    "model.eval()\n",
    "with torch.no_grad():\n",
    "    correct, total = 0, 0\n",
    "    test_loss = 0.0\n",
    "    for batch in tqdm(test_loader, desc=\"Testing\"):\n",
    "        x, y = batch\n",
    "        x, y = x.to(device), y.to(device)\n",
    "        y_hat = model(x)\n",
    "        loss = criterion(y_hat, y)\n",
    "        test_loss += loss.detach().cpu().item() / len(test_loader)\n",
    "\n",
    "        correct += torch.sum(torch.argmax(y_hat, dim=1) == y).detach().cpu().item()\n",
    "        total += len(x)\n",
    "    print(f\"Test loss: {test_loss:.2f}\")\n",
    "    print(f\"Test accuracy: {correct / total * 100:.2f}%\")"
   ]
  },
  {
   "cell_type": "code",
   "execution_count": null,
   "metadata": {},
   "outputs": [],
   "source": []
  }
 ],
 "metadata": {
  "kernelspec": {
   "display_name": "carl",
   "language": "python",
   "name": "carl"
  },
  "language_info": {
   "codemirror_mode": {
    "name": "ipython",
    "version": 3
   },
   "file_extension": ".py",
   "mimetype": "text/x-python",
   "name": "python",
   "nbconvert_exporter": "python",
   "pygments_lexer": "ipython3",
   "version": "3.7.9"
  }
 },
 "nbformat": 4,
 "nbformat_minor": 4
}

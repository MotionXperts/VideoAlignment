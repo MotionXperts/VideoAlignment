{
 "cells": [
  {
   "cell_type": "markdown",
   "metadata": {},
   "source": [
    "## comments\n",
    "position encoding -> \n",
    "    # if train_len is None:\n",
    "    #     pos_list = np.arange(seq_len)\n",
    "    # else:\n",
    "    #     pos_list = np.linspace(0, train_len-1, num=seq_len)\n",
    "    pos_list = np.arange(seq_len)\n",
    "\n",
    "encoding layer -> 2 layers instead of 3\n",
    "\n",
    "The model failed to align BECAUSE not training enough, check transformer_l2 for more"
   ]
  },
  {
   "cell_type": "code",
   "execution_count": 1,
   "metadata": {},
   "outputs": [
    {
     "name": "stdout",
     "output_type": "stream",
     "text": [
      "['/home/c1l1mo/projects/VideoAlignment', '/home/c1l1mo/miniconda3/envs/carl/lib/python37.zip', '/home/c1l1mo/miniconda3/envs/carl/lib/python3.7', '/home/c1l1mo/miniconda3/envs/carl/lib/python3.7/lib-dynload', '', '/home/c1l1mo/.local/lib/python3.7/site-packages', '/home/c1l1mo/testings/HIT', '/home/c1l1mo/miniconda3/envs/carl/lib/python3.7/site-packages', '/home/c1l1mo/.local/lib/python3.7/site-packages/IPython/extensions', '/tmp/tmpxnjy4i96', '/home/c1l1mo/testings/carl', '/home/c1l1mo/testings/carl/utils', '/home/c1l1mo/testings/carl/datasets']\n"
     ]
    }
   ],
   "source": [
    "import sys\n",
    "sys.path.append(\"/home/c1l1mo/testings/carl\")\n",
    "sys.path.append(\"/home/c1l1mo/testings/carl/utils\")\n",
    "sys.path.append(\"/home/c1l1mo/testings/carl/datasets\")\n",
    "print(sys.path)"
   ]
  },
  {
   "cell_type": "code",
   "execution_count": 2,
   "metadata": {},
   "outputs": [
    {
     "name": "stderr",
     "output_type": "stream",
     "text": [
      "/home/c1l1mo/.local/lib/python3.7/site-packages/tqdm/auto.py:21: TqdmWarning: IProgress not found. Please update jupyter and ipywidgets. See https://ipywidgets.readthedocs.io/en/stable/user_install.html\n",
      "  from .autonotebook import tqdm as notebook_tqdm\n"
     ]
    }
   ],
   "source": [
    "from model.transformer.transformer import CARL as Mine_Transformer\n",
    "from models.transformer import TransformerModel as CARL_Transformer"
   ]
  },
  {
   "cell_type": "code",
   "execution_count": 3,
   "metadata": {},
   "outputs": [],
   "source": [
    "import yaml\n",
    "from easydict import EasyDict as edict\n",
    "with open(\"/home/c1l1mo/tmp/scl_transformer_processed_axel_trimmed/config.yml\",\"r\") as file:\n",
    "    cfg = yaml.safe_load(file)\n",
    "cfg = edict(cfg)"
   ]
  },
  {
   "cell_type": "code",
   "execution_count": 4,
   "metadata": {},
   "outputs": [
    {
     "name": "stderr",
     "output_type": "stream",
     "text": [
      "/home/c1l1mo/.local/lib/python3.7/site-packages/torchvision/models/_utils.py:209: UserWarning: The parameter 'pretrained' is deprecated since 0.13 and will be removed in 0.15, please use 'weights' instead.\n",
      "  f\"The parameter '{pretrained_param}' is deprecated since 0.13 and will be removed in 0.15, \"\n",
      "/home/c1l1mo/.local/lib/python3.7/site-packages/torchvision/models/_utils.py:223: UserWarning: Arguments other than a weight enum or `None` for 'weights' are deprecated since 0.13 and will be removed in 0.15. The current behavior is equivalent to passing `weights=ResNet50_Weights.IMAGENET1K_V1`. You can also use `weights=ResNet50_Weights.DEFAULT` to get the most up-to-date weights.\n",
      "  warnings.warn(msg)\n"
     ]
    },
    {
     "data": {
      "text/plain": [
       "tensor([0.0100, 0.0100, 0.0100, 0.0100, 0.0100, 0.0100, 0.0100, 0.0100, 0.0100,\n",
       "        0.0100, 0.0100, 0.0100, 0.0100, 0.0100, 0.0100, 0.0100, 0.0100, 0.0100,\n",
       "        0.0100, 0.0100, 0.0100, 0.0100, 0.0100, 0.0100, 0.0100, 0.0100, 0.0100,\n",
       "        0.0100, 0.0100, 0.0100, 0.0100, 0.0100, 0.0100, 0.0100, 0.0100, 0.0100,\n",
       "        0.0100, 0.0100, 0.0100, 0.0100, 0.0100, 0.0100, 0.0100, 0.0100, 0.0100,\n",
       "        0.0100, 0.0100, 0.0100, 0.0100, 0.0100, 0.0100, 0.0100, 0.0100, 0.0100,\n",
       "        0.0100, 0.0100, 0.0100, 0.0100, 0.0100, 0.0100, 0.0100, 0.0100, 0.0100,\n",
       "        0.0100, 0.0100, 0.0100, 0.0100, 0.0100, 0.0100, 0.0100, 0.0100, 0.0100,\n",
       "        0.0100, 0.0100, 0.0100, 0.0100, 0.0100, 0.0100, 0.0100, 0.0100, 0.0100,\n",
       "        0.0100, 0.0100, 0.0100, 0.0100, 0.0100, 0.0100, 0.0100, 0.0100, 0.0100,\n",
       "        0.0100, 0.0100, 0.0100, 0.0100, 0.0100, 0.0100, 0.0100, 0.0100, 0.0100,\n",
       "        0.0100, 0.0100, 0.0100, 0.0100, 0.0100, 0.0100, 0.0100, 0.0100, 0.0100,\n",
       "        0.0100, 0.0100, 0.0100, 0.0100, 0.0100, 0.0100, 0.0100, 0.0100, 0.0100,\n",
       "        0.0100, 0.0100, 0.0100, 0.0100, 0.0100, 0.0100, 0.0100, 0.0100, 0.0100,\n",
       "        0.0100, 0.0100])"
      ]
     },
     "execution_count": 4,
     "metadata": {},
     "output_type": "execute_result"
    }
   ],
   "source": [
    "import numpy as np\n",
    "import torch\n",
    "import random\n",
    "\n",
    "def setup_seed(seed):\n",
    "    random.seed(seed)                          \n",
    "    np.random.seed(seed)                       \n",
    "    torch.manual_seed(seed)                    \n",
    "    torch.cuda.manual_seed(seed)               \n",
    "    torch.cuda.manual_seed_all(seed)           \n",
    "    torch.backends.cudnn.deterministic = True  \n",
    "\n",
    "\n",
    "setup_seed(7)\n",
    "\n",
    "cfg.MODEL.PROJECTION = False\n",
    "cfg.MODEL.L2_NORMALIZE= False\n",
    "\n",
    "mine = Mine_Transformer()\n",
    "carl = CARL_Transformer(cfg)\n",
    "\n",
    "mine.transformation.fc_layer[1].weight.data.fill_(0.01)\n",
    "mine.transformation.fc_layer[1].bias.data.fill_(0.01)\n",
    "mine.transformation.fc_layer[5].weight.data.fill_(0.01)\n",
    "mine.transformation.fc_layer[5].bias.data.fill_(0.01)\n",
    "mine.transformation.video_emb.weight.data.fill_(0.01)\n",
    "mine.transformation.video_emb.bias.data.fill_(0.01)\n",
    "for name,parameter in mine.encoder.encodingLayers.named_parameters():\n",
    "    parameter.data.fill_(0.01)\n",
    "mine.encoder.embedding_layer.weight.data.fill_(0.01)\n",
    "mine.encoder.embedding_layer.bias.data.fill_(0.01)\n",
    "\n",
    "carl.embed.fc_layers[1].weight.data.fill_(0.01)\n",
    "carl.embed.fc_layers[1].bias.data.fill_(0.01)\n",
    "carl.embed.fc_layers[5].weight.data.fill_(0.01)\n",
    "carl.embed.fc_layers[5].bias.data.fill_(0.01)\n",
    "carl.embed.video_emb.weight.data.fill_(0.01)\n",
    "carl.embed.video_emb.bias.data.fill_(0.01)\n",
    "for name,parameter in carl.embed.video_encoder.named_parameters():\n",
    "    parameter.data.fill_(0.01)\n",
    "carl.embed.embedding_layer.weight.data.fill_(0.01)\n",
    "carl.embed.embedding_layer.bias.data.fill_(0.01)\n"
   ]
  },
  {
   "cell_type": "code",
   "execution_count": 5,
   "metadata": {},
   "outputs": [
    {
     "data": {
      "text/plain": [
       "torch.Size([1, 14, 3, 224, 224])"
      ]
     },
     "execution_count": 5,
     "metadata": {},
     "output_type": "execute_result"
    }
   ],
   "source": [
    "test = torch.rand(1,14,3,224,224)\n",
    "test.shape"
   ]
  },
  {
   "cell_type": "code",
   "execution_count": 6,
   "metadata": {},
   "outputs": [],
   "source": [
    "mine.eval()\n",
    "m = mine(test)"
   ]
  },
  {
   "cell_type": "code",
   "execution_count": 7,
   "metadata": {},
   "outputs": [],
   "source": [
    "carl.eval()\n",
    "c = carl(test)"
   ]
  },
  {
   "cell_type": "code",
   "execution_count": 8,
   "metadata": {},
   "outputs": [
    {
     "name": "stdout",
     "output_type": "stream",
     "text": [
      "x_res x_res\n",
      "True\n",
      "x_reshape x_reshape\n",
      "True\n",
      "x_pooling x_pooling\n",
      "True\n",
      "x_flatten x_flatten\n",
      "True\n",
      "x_fc x_fc\n",
      "True\n",
      "x_emb x_emb\n",
      "True\n",
      "x_transform x_transform\n",
      "True\n",
      "x_pos x_pos\n",
      "True\n",
      "x_encoding_layer x_encoding_layer\n",
      "True\n",
      "x x\n",
      "True\n"
     ]
    }
   ],
   "source": [
    "for m_,c_ in zip(m,c):\n",
    "    print(m_,c_)\n",
    "    # print(m[m_].shape,c[c_].shape)\n",
    "    print(torch.equal(m[m_],c[c_]))"
   ]
  },
  {
   "cell_type": "code",
   "execution_count": null,
   "metadata": {},
   "outputs": [],
   "source": []
  }
 ],
 "metadata": {
  "kernelspec": {
   "display_name": "carl",
   "language": "python",
   "name": "carl"
  },
  "language_info": {
   "codemirror_mode": {
    "name": "ipython",
    "version": 3
   },
   "file_extension": ".py",
   "mimetype": "text/x-python",
   "name": "python",
   "nbconvert_exporter": "python",
   "pygments_lexer": "ipython3",
   "version": "3.7.9"
  }
 },
 "nbformat": 4,
 "nbformat_minor": 4
}

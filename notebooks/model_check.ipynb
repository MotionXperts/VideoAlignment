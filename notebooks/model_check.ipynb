{
 "cells": [
  {
   "cell_type": "code",
   "execution_count": null,
   "metadata": {},
   "outputs": [],
   "source": [
    "import tensorflow as tf\n",
    "import numpy as np\n",
    "import sys\n",
    "# Embedding Model\n",
    "class Embedder(tf.keras.Model):\n",
    "  def __init__(self, embedding_size,\n",
    "               num_context_steps):\n",
    "    super().__init__()\n",
    "\n",
    "    # Will download pre-trained ResNet50V2 here\n",
    "    base_model = tf.keras.applications.resnet_v2.ResNet50V2(include_top=False,\n",
    "                                        weights='imagenet',\n",
    "                                        pooling='max')\n",
    "    layer = 'conv4_block3_out'\n",
    "    self.num_context_steps = num_context_steps\n",
    "    self.base_model = tf.keras.Model(\n",
    "        inputs=base_model.input,\n",
    "        outputs=base_model.get_layer(layer).output)\n",
    "    self.conv_layers = [tf.keras.layers.Conv3D(256, 3, padding='same') for _ in range(2)]\n",
    "    self.bn_layers = [tf.keras.layers.BatchNormalization() for _ in range(2)]\n",
    "\n",
    "    self.fc_layers = [tf.keras.layers.Dense(256,activation=tf.nn.relu) for _ in range(2)]\n",
    "    \n",
    "    self.embedding_layer = tf.keras.layers.Dense(embedding_size)\n",
    "  \n",
    "  def call(self, frames, training):\n",
    "    batch_size, _, h,  w, c = frames.shape\n",
    "    frames = tf.reshape(frames,[-1, h, w, c])\n",
    "    x = self.base_model(frames , training=training)\n",
    "    _, h,  w, c = x.shape\n",
    "    x = tf.reshape(x, [-1, self.num_context_steps, h, w, c])\n",
    "    x = self.dropout(x)\n",
    "    for conv_layer, bn_layer in zip(self.conv_layers,self.bn_layers):\n",
    "      x = conv_layer(x)\n",
    "      print(\"after conv\", x.shape)\n",
    "      x = bn_layer(x)\n",
    "      x = tf.nn.relu(x)\n",
    "    x = tf.reduce_max(x, [1, 2, 3])\n",
    "    _,  c = x.shape\n",
    "    x = tf.reshape(x, [batch_size, -1, c]) \n",
    "    for fc_layer in self.fc_layers:\n",
    "      x = self.dropout(x)\n",
    "      x = fc_layer(x)\n",
    "    x = self.embedding_layer(x)\n",
    "    return x"
   ]
  },
  {
   "cell_type": "code",
   "execution_count": null,
   "metadata": {},
   "outputs": [],
   "source": [
    "import sys\n",
    "sys.path.append('/home/c1l1mo/projects/VideoAlignment/model')\n",
    "from transformer.resnet50.resnet50 import ResNet50\n",
    "import torch \n",
    "import torch.nn as nn\n",
    "import torch.nn.functional as F\n",
    "import torchvision.models as models\n",
    "\n",
    "# Embedding Model\n",
    "class torch_Embedder(nn.Module):\n",
    "  def __init__(self, embedding_size, num_context_steps=5):\n",
    "    super().__init__()\n",
    "\n",
    "    # Will download pre-trained ResNet50V2 here\n",
    "    self.resnet = ResNet50(tcc=True)\n",
    "    self.num_context_steps = num_context_steps\n",
    "    self.conv_layers = nn.ModuleList([nn.Conv3d(1024, 256, kernel_size=3, padding=\"same\"),nn.Conv3d(256, 256, kernel_size=3, padding=\"same\")])\n",
    "    self.bn_layers = nn.ModuleList([nn.BatchNorm3d(256)\n",
    "                                      for _ in range(2)])\n",
    "    self.maxpool = nn.AdaptiveMaxPool3d(1)\n",
    "    self.fc_layers = nn.ModuleList([nn.Linear(256, 256)\n",
    "                                      for _ in range(2)])\n",
    "    self.embedding_layer = nn.Linear(256, embedding_size)\n",
    "  \n",
    "  def forward(self, frames):\n",
    "    B , T , C , H , W = frames.shape\n",
    "\n",
    "    x = self.resnet(frames)\n",
    "    x = x.reshape(-1, self.num_context_steps,1024,14,14)\n",
    "    x = x.permute(0,2,1,3,4)\n",
    "\n",
    "    for conv_layer, bn_layer in zip(self.conv_layers,\n",
    "                                    self.bn_layers):\n",
    "      x = conv_layer(x)\n",
    "      x = bn_layer(x)\n",
    "      x = F.relu(x)\n",
    "\n",
    "    x = self.maxpool(x)\n",
    "    x = x.reshape(B, -1, 256)\n",
    "\n",
    "    for fc_layer in self.fc_layers:\n",
    "      x = fc_layer(x)\n",
    "      x = F.relu(x)\n",
    "\n",
    "    x = self.embedding_layer(x)\n",
    "\n",
    "\n",
    "    return x"
   ]
  },
  {
   "cell_type": "code",
   "execution_count": null,
   "metadata": {},
   "outputs": [],
   "source": [
    "import torch\n",
    "video = np.random.rand(2, 100, 224, 224, 3).astype(np.float32)\n",
    "torch_video = torch.from_numpy(video).permute(0,1,4,2,3)"
   ]
  },
  {
   "cell_type": "code",
   "execution_count": null,
   "metadata": {},
   "outputs": [],
   "source": [
    "gpus = tf.config.list_physical_devices('GPU')\n",
    "gpus"
   ]
  },
  {
   "cell_type": "code",
   "execution_count": null,
   "metadata": {},
   "outputs": [],
   "source": [
    "tf_model = Embedder(embedding_size=128, num_context_steps=5)\n",
    "tf_embs = model(video, training=False)\n",
    "tf_embs.shape"
   ]
  },
  {
   "cell_type": "code",
   "execution_count": null,
   "metadata": {},
   "outputs": [],
   "source": [
    "torch_model = torch_Embedder(128)\n",
    "torch_embs = model(video)\n",
    "torch_embs.shape"
   ]
  },
  {
   "cell_type": "code",
   "execution_count": null,
   "metadata": {},
   "outputs": [],
   "source": []
  }
 ],
 "metadata": {
  "kernelspec": {
   "display_name": "carl",
   "language": "python",
   "name": "carl"
  },
  "language_info": {
   "codemirror_mode": {
    "name": "ipython",
    "version": 3
   },
   "file_extension": ".py",
   "mimetype": "text/x-python",
   "name": "python",
   "nbconvert_exporter": "python",
   "pygments_lexer": "ipython3",
   "version": "3.7.9"
  }
 },
 "nbformat": 4,
 "nbformat_minor": 4
}

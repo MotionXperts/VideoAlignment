{
 "cells": [
  {
   "cell_type": "code",
   "execution_count": 1,
   "id": "a9557178",
   "metadata": {},
   "outputs": [],
   "source": [
    "import pickle"
   ]
  },
  {
   "cell_type": "code",
   "execution_count": 2,
   "id": "97cbb36e",
   "metadata": {},
   "outputs": [],
   "source": [
    "pickles = [\n",
    "    '/home/c1l1mo/projects/VideoAlignment/result/one_jump/output_new_train_label.pkl',\n",
    "    '/home/c1l1mo/projects/VideoAlignment/result/one_jump/output_new_test_label.pkl',\n",
    "    '/home/c1l1mo/projects/VideoAlignment/result/one_jump/output_new_trimmed_train_label.pkl',\n",
    "    '/home/c1l1mo/projects/VideoAlignment/result/one_jump/output_new_trimmed_test_label.pkl'\n",
    "]"
   ]
  },
  {
   "cell_type": "code",
   "execution_count": 3,
   "id": "d0c7caa1",
   "metadata": {},
   "outputs": [],
   "source": [
    "results = []\n",
    "for p in pickles:\n",
    "    with open(p,'rb') as f:\n",
    "        results.append(pickle.load(f))"
   ]
  },
  {
   "cell_type": "code",
   "execution_count": 4,
   "id": "2d55ac76",
   "metadata": {},
   "outputs": [
    {
     "name": "stdout",
     "output_type": "stream",
     "text": [
      "49\n",
      "15\n",
      "50\n",
      "15\n"
     ]
    }
   ],
   "source": [
    "for r in results:\n",
    "    print(len(r))"
   ]
  },
  {
   "cell_type": "code",
   "execution_count": 5,
   "id": "a52eaa99",
   "metadata": {},
   "outputs": [
    {
     "data": {
      "text/plain": [
       "'/home/c1l1mo/datasets/scripts/skating_pipeline/results/471703057571774515_0.mp4'"
      ]
     },
     "execution_count": 5,
     "metadata": {},
     "output_type": "execute_result"
    }
   ],
   "source": [
    "results[0][1]['video_file']"
   ]
  },
  {
   "cell_type": "code",
   "execution_count": 6,
   "id": "bfa1685d",
   "metadata": {},
   "outputs": [
    {
     "data": {
      "text/plain": [
       "'/home/c1l1mo/projects/VideoAlignment/result/one_jump/trimmed_videos/trimmed_471703057571774515.mp4'"
      ]
     },
     "execution_count": 6,
     "metadata": {},
     "output_type": "execute_result"
    }
   ],
   "source": [
    "results[2][2]['video_file']"
   ]
  },
  {
   "cell_type": "code",
   "execution_count": 7,
   "id": "5ce269da",
   "metadata": {},
   "outputs": [
    {
     "data": {
      "text/plain": [
       "tensor(428.9288)"
      ]
     },
     "execution_count": 7,
     "metadata": {},
     "output_type": "execute_result"
    }
   ],
   "source": [
    "results[0][1]['subtraction'].abs().sum()"
   ]
  },
  {
   "cell_type": "code",
   "execution_count": 8,
   "id": "de64a3d1",
   "metadata": {},
   "outputs": [
    {
     "data": {
      "text/plain": [
       "tensor(320.0623)"
      ]
     },
     "execution_count": 8,
     "metadata": {},
     "output_type": "execute_result"
    }
   ],
   "source": [
    "results[2][2]['subtraction'].abs().sum()"
   ]
  },
  {
   "cell_type": "code",
   "execution_count": 9,
   "id": "4eeff09a",
   "metadata": {},
   "outputs": [
    {
     "name": "stdout",
     "output_type": "stream",
     "text": [
      "/home/c1l1mo/projects/VideoAlignment/result/one_jump/trimmed_videos/trimmed_axel_single_standard_girl_0.mp4 tensor(0.)\n",
      "/home/c1l1mo/projects/VideoAlignment/result/one_jump/trimmed_videos/trimmed_471703054736425109.mp4 tensor(160.4481)\n",
      "/home/c1l1mo/projects/VideoAlignment/result/one_jump/trimmed_videos/trimmed_471703057571774515.mp4 tensor(320.0623)\n",
      "/home/c1l1mo/projects/VideoAlignment/result/one_jump/trimmed_videos/trimmed_471703062000697697.mp4 tensor(163.1896)\n",
      "/home/c1l1mo/projects/VideoAlignment/result/one_jump/trimmed_videos/trimmed_471703068980543653.mp4 tensor(197.9436)\n",
      "/home/c1l1mo/projects/VideoAlignment/result/one_jump/trimmed_videos/trimmed_471703068980543653.mp4 tensor(197.9436)\n",
      "/home/c1l1mo/projects/VideoAlignment/result/one_jump/trimmed_videos/trimmed_471703072167428148.mp4 tensor(165.7804)\n",
      "/home/c1l1mo/projects/VideoAlignment/result/one_jump/trimmed_videos/trimmed_471703075120480727.mp4 tensor(169.1905)\n",
      "/home/c1l1mo/projects/VideoAlignment/result/one_jump/trimmed_videos/trimmed_471703078794690900.mp4 tensor(156.6630)\n",
      "/home/c1l1mo/projects/VideoAlignment/result/one_jump/trimmed_videos/trimmed_471703092300087545.mp4 tensor(170.3349)\n",
      "/home/c1l1mo/projects/VideoAlignment/result/one_jump/trimmed_videos/trimmed_471703096813682946.mp4 tensor(175.8409)\n",
      "/home/c1l1mo/projects/VideoAlignment/result/one_jump/trimmed_videos/trimmed_471703101175759250.mp4 tensor(295.7382)\n",
      "/home/c1l1mo/projects/VideoAlignment/result/one_jump/trimmed_videos/trimmed_471706226099486724.mp4 tensor(172.0380)\n",
      "/home/c1l1mo/projects/VideoAlignment/result/one_jump/trimmed_videos/trimmed_471706229102870738.mp4 tensor(188.8205)\n",
      "/home/c1l1mo/projects/VideoAlignment/result/one_jump/trimmed_videos/trimmed_471706234555465745.mp4 tensor(188.6948)\n",
      "/home/c1l1mo/projects/VideoAlignment/result/one_jump/trimmed_videos/trimmed_471706237558325707.mp4 tensor(179.1205)\n",
      "/home/c1l1mo/projects/VideoAlignment/result/one_jump/trimmed_videos/trimmed_471706240444530722.mp4 tensor(171.6122)\n",
      "/home/c1l1mo/projects/VideoAlignment/result/one_jump/trimmed_videos/trimmed_471706244839637607.mp4 tensor(182.2468)\n",
      "/home/c1l1mo/projects/VideoAlignment/result/one_jump/trimmed_videos/trimmed_471706248866431172.mp4 tensor(180.8887)\n",
      "/home/c1l1mo/projects/VideoAlignment/result/one_jump/trimmed_videos/trimmed_471706253262061879.mp4 tensor(241.3659)\n",
      "/home/c1l1mo/projects/VideoAlignment/result/one_jump/trimmed_videos/trimmed_471706259436077710.mp4 tensor(164.5824)\n",
      "/home/c1l1mo/projects/VideoAlignment/result/one_jump/trimmed_videos/trimmed_471706263479386249.mp4 tensor(155.1117)\n",
      "/home/c1l1mo/projects/VideoAlignment/result/one_jump/trimmed_videos/trimmed_471706275710501014.mp4 tensor(197.3685)\n",
      "/home/c1l1mo/projects/VideoAlignment/result/one_jump/trimmed_videos/trimmed_471706279367672148.mp4 tensor(166.7838)\n",
      "/home/c1l1mo/projects/VideoAlignment/result/one_jump/trimmed_videos/trimmed_471706283780080147.mp4 tensor(172.0687)\n",
      "/home/c1l1mo/projects/VideoAlignment/result/one_jump/trimmed_videos/trimmed_471706290155159700.mp4 tensor(175.6067)\n",
      "/home/c1l1mo/projects/VideoAlignment/result/one_jump/trimmed_videos/trimmed_471706295305764961.mp4 tensor(163.0481)\n",
      "/home/c1l1mo/projects/VideoAlignment/result/one_jump/trimmed_videos/trimmed_471706304466387043.mp4 tensor(177.3165)\n",
      "/home/c1l1mo/projects/VideoAlignment/result/one_jump/trimmed_videos/trimmed_471706336107692305.mp4 tensor(165.0147)\n",
      "/home/c1l1mo/projects/VideoAlignment/result/one_jump/trimmed_videos/trimmed_471706344848622134.mp4 tensor(159.2592)\n",
      "/home/c1l1mo/projects/VideoAlignment/result/one_jump/trimmed_videos/trimmed_471706360988565506.mp4 tensor(189.8870)\n",
      "/home/c1l1mo/projects/VideoAlignment/result/one_jump/trimmed_videos/trimmed_471706363236974645.mp4 tensor(179.5259)\n",
      "/home/c1l1mo/projects/VideoAlignment/result/one_jump/trimmed_videos/trimmed_471706366558601592.mp4 tensor(181.5135)\n",
      "/home/c1l1mo/projects/VideoAlignment/result/one_jump/trimmed_videos/trimmed_471706366558601592.mp4 tensor(181.5135)\n",
      "/home/c1l1mo/projects/VideoAlignment/result/one_jump/trimmed_videos/trimmed_471706370417361371.mp4 tensor(150.7259)\n",
      "/home/c1l1mo/projects/VideoAlignment/result/one_jump/trimmed_videos/trimmed_471706370417361371.mp4 tensor(150.7259)\n",
      "/home/c1l1mo/projects/VideoAlignment/result/one_jump/trimmed_videos/trimmed_471706370417361371.mp4 tensor(150.7259)\n",
      "/home/c1l1mo/projects/VideoAlignment/result/one_jump/trimmed_videos/trimmed_471706375718961352.mp4 tensor(163.3624)\n",
      "/home/c1l1mo/projects/VideoAlignment/result/one_jump/trimmed_videos/trimmed_471706375718961352.mp4 tensor(163.3624)\n",
      "/home/c1l1mo/projects/VideoAlignment/result/one_jump/trimmed_videos/trimmed_471706375718961352.mp4 tensor(163.3624)\n",
      "/home/c1l1mo/projects/VideoAlignment/result/one_jump/trimmed_videos/trimmed_471706385902731624.mp4 tensor(172.1774)\n",
      "/home/c1l1mo/projects/VideoAlignment/result/one_jump/trimmed_videos/trimmed_471706389510094871.mp4 tensor(189.0458)\n",
      "/home/c1l1mo/projects/VideoAlignment/result/one_jump/trimmed_videos/trimmed_471706393637290067.mp4 tensor(168.9920)\n",
      "/home/c1l1mo/projects/VideoAlignment/result/one_jump/trimmed_videos/trimmed_471706397763961071.mp4 tensor(154.9867)\n",
      "/home/c1l1mo/projects/VideoAlignment/result/one_jump/trimmed_videos/trimmed_471706401488502884.mp4 tensor(174.4097)\n",
      "/home/c1l1mo/projects/VideoAlignment/result/one_jump/trimmed_videos/trimmed_471706406303826049.mp4 tensor(164.8688)\n",
      "/home/c1l1mo/projects/VideoAlignment/result/one_jump/trimmed_videos/trimmed_471706406303826049.mp4 tensor(164.8688)\n",
      "/home/c1l1mo/projects/VideoAlignment/result/one_jump/trimmed_videos/trimmed_471706411907416131.mp4 tensor(176.2868)\n",
      "/home/c1l1mo/projects/VideoAlignment/result/one_jump/trimmed_videos/trimmed_471706413970751588.mp4 tensor(174.2233)\n",
      "/home/c1l1mo/projects/VideoAlignment/result/one_jump/trimmed_videos/trimmed_471706413970751588.mp4 tensor(174.2233)\n"
     ]
    }
   ],
   "source": [
    "for r in results[2]:\n",
    "    print(r['video_file'] , r['subtraction'].abs().sum())"
   ]
  },
  {
   "cell_type": "code",
   "execution_count": 10,
   "id": "91d5e277",
   "metadata": {},
   "outputs": [
    {
     "name": "stdout",
     "output_type": "stream",
     "text": [
      "/home/c1l1mo/datasets/scripts/skating_pipeline/results/471703054736425109_0.mp4 tensor(405.9786)\n",
      "/home/c1l1mo/datasets/scripts/skating_pipeline/results/471703057571774515_0.mp4 tensor(428.9288)\n",
      "/home/c1l1mo/datasets/scripts/skating_pipeline/results/471703062000697697_0.mp4 tensor(393.0084)\n",
      "/home/c1l1mo/datasets/scripts/skating_pipeline/results/471703068980543653_0.mp4 tensor(379.2755)\n",
      "/home/c1l1mo/datasets/scripts/skating_pipeline/results/471703068980543653_1.mp4 tensor(379.2755)\n",
      "/home/c1l1mo/datasets/scripts/skating_pipeline/results/471703072167428148_0.mp4 tensor(269.5904)\n",
      "/home/c1l1mo/datasets/scripts/skating_pipeline/results/471703075120480727_0.mp4 tensor(355.0086)\n",
      "/home/c1l1mo/datasets/scripts/skating_pipeline/results/471703078794690900_0.mp4 tensor(322.5590)\n",
      "/home/c1l1mo/datasets/scripts/skating_pipeline/results/471703092300087545_0.mp4 tensor(315.5037)\n",
      "/home/c1l1mo/datasets/scripts/skating_pipeline/results/471703096813682946_0.mp4 tensor(297.7236)\n",
      "/home/c1l1mo/datasets/scripts/skating_pipeline/results/471703101175759250_0.mp4 tensor(417.2452)\n",
      "/home/c1l1mo/datasets/scripts/skating_pipeline/results/471706226099486724_0.mp4 tensor(335.0761)\n",
      "/home/c1l1mo/datasets/scripts/skating_pipeline/results/471706229102870738_0.mp4 tensor(422.9940)\n",
      "/home/c1l1mo/datasets/scripts/skating_pipeline/results/471706234555465745_0.mp4 tensor(292.7618)\n",
      "/home/c1l1mo/datasets/scripts/skating_pipeline/results/471706237558325707_0.mp4 tensor(324.8037)\n",
      "/home/c1l1mo/datasets/scripts/skating_pipeline/results/471706240444530722_0.mp4 tensor(317.7640)\n",
      "/home/c1l1mo/datasets/scripts/skating_pipeline/results/471706244839637607_0.mp4 tensor(393.9298)\n",
      "/home/c1l1mo/datasets/scripts/skating_pipeline/results/471706248866431172_0.mp4 tensor(360.5218)\n",
      "/home/c1l1mo/datasets/scripts/skating_pipeline/results/471706253262061879_0.mp4 tensor(363.8423)\n",
      "/home/c1l1mo/datasets/scripts/skating_pipeline/results/471706259436077710_0.mp4 tensor(402.2563)\n",
      "/home/c1l1mo/datasets/scripts/skating_pipeline/results/471706263479386249_0.mp4 tensor(376.0371)\n",
      "/home/c1l1mo/datasets/scripts/skating_pipeline/results/471706275710501014_0.mp4 tensor(356.0885)\n",
      "/home/c1l1mo/datasets/scripts/skating_pipeline/results/471706279367672148_0.mp4 tensor(360.8371)\n",
      "/home/c1l1mo/datasets/scripts/skating_pipeline/results/471706283780080147_0.mp4 tensor(426.3297)\n",
      "/home/c1l1mo/datasets/scripts/skating_pipeline/results/471706290155159700_0.mp4 tensor(393.6444)\n",
      "/home/c1l1mo/datasets/scripts/skating_pipeline/results/471706295305764961_0.mp4 tensor(307.7441)\n",
      "/home/c1l1mo/datasets/scripts/skating_pipeline/results/471706304466387043_0.mp4 tensor(378.0039)\n",
      "/home/c1l1mo/datasets/scripts/skating_pipeline/results/471706336107692305_0.mp4 tensor(366.4048)\n",
      "/home/c1l1mo/datasets/scripts/skating_pipeline/results/471706344848622134_0.mp4 tensor(337.0338)\n",
      "/home/c1l1mo/datasets/scripts/skating_pipeline/results/471706360988565506_0.mp4 tensor(304.3026)\n",
      "/home/c1l1mo/datasets/scripts/skating_pipeline/results/471706363236974645_0.mp4 tensor(322.7565)\n",
      "/home/c1l1mo/datasets/scripts/skating_pipeline/results/471706366558601592_0.mp4 tensor(345.4382)\n",
      "/home/c1l1mo/datasets/scripts/skating_pipeline/results/471706366558601592_1.mp4 tensor(345.4382)\n",
      "/home/c1l1mo/datasets/scripts/skating_pipeline/results/471706370417361371_0.mp4 tensor(363.0167)\n",
      "/home/c1l1mo/datasets/scripts/skating_pipeline/results/471706370417361371_1.mp4 tensor(363.0167)\n",
      "/home/c1l1mo/datasets/scripts/skating_pipeline/results/471706370417361371_2.mp4 tensor(363.0167)\n",
      "/home/c1l1mo/datasets/scripts/skating_pipeline/results/471706375718961352_0.mp4 tensor(384.4444)\n",
      "/home/c1l1mo/datasets/scripts/skating_pipeline/results/471706375718961352_1.mp4 tensor(384.4444)\n",
      "/home/c1l1mo/datasets/scripts/skating_pipeline/results/471706375718961352_2.mp4 tensor(384.4444)\n",
      "/home/c1l1mo/datasets/scripts/skating_pipeline/results/471706385902731624_0.mp4 tensor(329.5966)\n",
      "/home/c1l1mo/datasets/scripts/skating_pipeline/results/471706389510094871_0.mp4 tensor(342.3721)\n",
      "/home/c1l1mo/datasets/scripts/skating_pipeline/results/471706393637290067_0.mp4 tensor(401.3199)\n",
      "/home/c1l1mo/datasets/scripts/skating_pipeline/results/471706397763961071_0.mp4 tensor(341.5479)\n",
      "/home/c1l1mo/datasets/scripts/skating_pipeline/results/471706401488502884_0.mp4 tensor(348.2146)\n",
      "/home/c1l1mo/datasets/scripts/skating_pipeline/results/471706406303826049_0.mp4 tensor(344.0635)\n",
      "/home/c1l1mo/datasets/scripts/skating_pipeline/results/471706406303826049_1.mp4 tensor(344.0635)\n",
      "/home/c1l1mo/datasets/scripts/skating_pipeline/results/471706411907416131_0.mp4 tensor(278.0900)\n",
      "/home/c1l1mo/datasets/scripts/skating_pipeline/results/471706413970751588_0.mp4 tensor(322.3702)\n",
      "/home/c1l1mo/datasets/scripts/skating_pipeline/results/471706413970751588_1.mp4 tensor(322.3702)\n"
     ]
    }
   ],
   "source": [
    "for r in results[0]:\n",
    "    print(r['video_file'] , r['subtraction'].abs().sum())"
   ]
  },
  {
   "cell_type": "code",
   "execution_count": 11,
   "id": "63cbed42",
   "metadata": {},
   "outputs": [
    {
     "data": {
      "text/plain": [
       "{'original_video_name': '471703054736425109',\n",
       " 'original_video_file': '/home/c1l1mo/datasets/Axel_520_videos/processed_videos/471703054736425109.mp4',\n",
       " 'original_seq_len': 175,\n",
       " 'original_frame_label': tensor([0., 0., 0., 0., 0., 0., 0., 0., 0., 0., 0., 0., 0., 0., 0., 0., 0., 0., 0., 0., 0., 0., 0., 0.,\n",
       "         0., 0., 0., 0., 0., 0., 0., 0., 0., 0., 0., 0., 0., 0., 0., 0., 0., 0., 0., 0., 0., 0., 0., 0.,\n",
       "         0., 0., 0., 0., 0., 0., 0., 0., 0., 0., 0., 0., 0., 0., 0., 0., 0., 0., 0., 0., 0., 0., 0., 0.,\n",
       "         0., 0., 0., 0., 0., 0., 0., 0., 0., 0., 0., 0., 0., 0., 0., 0., 0., 0., 0., 0., 0., 0., 0., 0.,\n",
       "         0., 0., 0., 0., 0., 0., 0., 0., 0., 0., 0., 0., 0., 0., 0., 0., 0., 0., 0., 0., 0., 0., 0., 0.,\n",
       "         0., 0., 0., 0., 0., 0., 0., 0., 0., 0., 0., 0., 0., 0., 0., 0., 0., 0., 0., 0., 0., 0., 0., 0.,\n",
       "         0., 0., 0., 0., 0., 0., 0., 0., 0., 0., 0., 0., 0., 0., 0., 0., 0., 0., 0., 0., 0., 0., 0., 0.,\n",
       "         0., 0., 0., 0., 0., 0., 0.]),\n",
       " 'video_name': '471703054736425109_0',\n",
       " 'video_file': '/home/c1l1mo/projects/VideoAlignment/result/one_jump/trimmed_videos/trimmed_471703054736425109.mp4',\n",
       " 'seq_len': 46,\n",
       " 'frame_label': tensor([0., 0., 0., 0., 0., 0., 0., 0., 0., 0., 0., 0., 0., 0., 0., 0., 0., 0., 0., 0., 0., 0., 0., 0.,\n",
       "         0., 0., 0., 0., 0., 0., 0., 0., 0., 0., 0., 0., 0., 0., 0., 0., 0., 0., 0., 0., 0., 0.]),\n",
       " 'annotations_label': tensor([1., 1., 1., 1., 1., 1., 1., 1., 1., 1., 1., 1., 1., 1., 1., 1., 1., 1.,\n",
       "         1., 1., 1., 1., 1., 1., 1., 1., 1., 1., 1., 1., 1., 1., 1., 1., 1., 1.,\n",
       "         1., 1., 1., 1., 1., 1., 1., 1., 1., 0.]),\n",
       " 'name': '471703054736425109_0',\n",
       " 'original_annotations_label': tensor([0., 0., 0., 0., 0., 0., 0., 0., 0., 0., 0., 0., 0., 0., 0., 0., 0., 0.,\n",
       "         0., 0., 0., 0., 0., 0., 0., 0., 0., 0., 0., 0., 0., 0., 0., 0., 0., 0.,\n",
       "         0., 0., 0., 0., 0., 0., 0., 0., 0., 0., 0., 0., 0., 0., 0., 0., 0., 0.,\n",
       "         0., 0., 0., 0., 0., 0., 0., 0., 0., 0., 0., 0., 0., 0., 0., 0., 0., 0.,\n",
       "         0., 0., 1., 1., 1., 1., 1., 1., 1., 1., 1., 1., 1., 1., 1., 1., 1., 1.,\n",
       "         1., 1., 1., 1., 1., 1., 1., 1., 1., 1., 1., 1., 1., 1., 1., 1., 1., 1.,\n",
       "         1., 1., 1., 1., 1., 1., 1., 1., 1., 1., 1., 1., 1., 1., 1., 1., 1., 1.,\n",
       "         1., 1., 1., 1., 1., 1., 1., 1., 0., 0., 0., 0., 0., 0., 0., 0., 0., 0.,\n",
       "         0., 0., 0., 0., 0., 0., 0., 0., 0., 0., 0., 0., 0., 0., 0., 0., 0., 0.,\n",
       "         0., 0., 0., 0., 0., 0., 0., 0., 0., 0., 0., 0., 0.]),\n",
       " 'subtraction': tensor([[-0.0515,  0.0643, -0.0575,  ..., -0.0298,  0.0054, -0.0067],\n",
       "         [-0.0429,  0.0509, -0.0380,  ..., -0.0127,  0.0018, -0.0051],\n",
       "         [-0.0333,  0.0363, -0.0221,  ..., -0.0079,  0.0006, -0.0047],\n",
       "         ...,\n",
       "         [-0.0184,  0.0038, -0.0491,  ...,  0.0286, -0.0042,  0.0248],\n",
       "         [-0.0037,  0.0291, -0.0386,  ...,  0.0193, -0.0042,  0.0222],\n",
       "         [-0.0260,  0.0043, -0.0525,  ...,  0.0251, -0.0332,  0.0156]]),\n",
       " 'start_frame': tensor(0)}"
      ]
     },
     "execution_count": 11,
     "metadata": {},
     "output_type": "execute_result"
    }
   ],
   "source": [
    "results[2][1]"
   ]
  },
  {
   "cell_type": "code",
   "execution_count": 12,
   "id": "740b7341",
   "metadata": {},
   "outputs": [
    {
     "data": {
      "text/plain": [
       "{'original_video_name': '471703054736425109',\n",
       " 'original_video_file': '/home/c1l1mo/datasets/Axel_520_videos/processed_videos/471703054736425109.mp4',\n",
       " 'original_seq_len': 175,\n",
       " 'original_frame_label': tensor([0., 0., 0., 0., 0., 0., 0., 0., 0., 0., 0., 0., 0., 0., 0., 0., 0., 0., 0., 0., 0., 0., 0., 0.,\n",
       "         0., 0., 0., 0., 0., 0., 0., 0., 0., 0., 0., 0., 0., 0., 0., 0., 0., 0., 0., 0., 0., 0., 0., 0.,\n",
       "         0., 0., 0., 0., 0., 0., 0., 0., 0., 0., 0., 0., 0., 0., 0., 0., 0., 0., 0., 0., 0., 0., 0., 0.,\n",
       "         0., 0., 0., 0., 0., 0., 0., 0., 0., 0., 0., 0., 0., 0., 0., 0., 0., 0., 0., 0., 0., 0., 0., 0.,\n",
       "         0., 0., 0., 0., 0., 0., 0., 0., 0., 0., 0., 0., 0., 0., 0., 0., 0., 0., 0., 0., 0., 0., 0., 0.,\n",
       "         0., 0., 0., 0., 0., 0., 0., 0., 0., 0., 0., 0., 0., 0., 0., 0., 0., 0., 0., 0., 0., 0., 0., 0.,\n",
       "         0., 0., 0., 0., 0., 0., 0., 0., 0., 0., 0., 0., 0., 0., 0., 0., 0., 0., 0., 0., 0., 0., 0., 0.,\n",
       "         0., 0., 0., 0., 0., 0., 0.]),\n",
       " 'video_name': '471703054736425109_0',\n",
       " 'video_file': '/home/c1l1mo/datasets/scripts/skating_pipeline/results/471703054736425109_0.mp4',\n",
       " 'seq_len': 54,\n",
       " 'frame_label': tensor([1., 1., 1., 1., 1., 1., 1., 1., 1., 1., 1., 1., 1., 1., 1., 1., 1., 1.,\n",
       "         1., 1., 1., 1., 1., 1., 1., 1., 1., 1., 1., 1., 1., 1., 1., 1., 1., 1.,\n",
       "         1., 1., 1., 1., 1., 1., 1., 1., 1., 1., 1., 1., 1., 1., 1., 1., 1.]),\n",
       " 'annotations_label': tensor([1., 1., 1., 1., 1., 1., 1., 1., 1., 1., 1., 1., 1., 1., 1., 1., 1., 1.,\n",
       "         1., 1., 1., 1., 1., 1., 1., 1., 1., 1., 1., 1., 1., 1., 1., 1., 1., 1.,\n",
       "         1., 1., 1., 1., 1., 1., 1., 1., 1., 1., 1., 1., 1., 1., 0., 0., 0., 0.]),\n",
       " 'name': '471703054736425109_0',\n",
       " 'original_annotations_label': tensor([0., 0., 0., 0., 0., 0., 0., 0., 0., 0., 0., 0., 0., 0., 0., 0., 0., 0.,\n",
       "         0., 0., 0., 0., 0., 0., 0., 0., 0., 0., 0., 0., 0., 0., 0., 0., 0., 0.,\n",
       "         0., 0., 0., 0., 0., 0., 0., 0., 0., 0., 0., 0., 0., 0., 0., 0., 0., 0.,\n",
       "         0., 0., 0., 0., 0., 0., 0., 0., 0., 0., 0., 0., 0., 0., 0., 0., 0., 0.,\n",
       "         0., 0., 1., 1., 1., 1., 1., 1., 1., 1., 1., 1., 1., 1., 1., 1., 1., 1.,\n",
       "         1., 1., 1., 1., 1., 1., 1., 1., 1., 1., 1., 1., 1., 1., 1., 1., 1., 1.,\n",
       "         1., 1., 1., 1., 1., 1., 1., 1., 1., 1., 1., 1., 1., 1., 1., 1., 1., 1.,\n",
       "         1., 1., 1., 1., 1., 1., 1., 1., 0., 0., 0., 0., 0., 0., 0., 0., 0., 0.,\n",
       "         0., 0., 0., 0., 0., 0., 0., 0., 0., 0., 0., 0., 0., 0., 0., 0., 0., 0.,\n",
       "         0., 0., 0., 0., 0., 0., 0., 0., 0., 0., 0., 0., 0.]),\n",
       " 'subtraction': tensor([[ 0.0056, -0.0781,  0.2820,  ...,  0.0484,  0.0914, -0.0387],\n",
       "         [ 0.0036, -0.0820,  0.2884,  ...,  0.0240,  0.1018, -0.0458],\n",
       "         [ 0.0038, -0.1065,  0.2788,  ...,  0.0101,  0.1123, -0.0559],\n",
       "         ...,\n",
       "         [-0.0108, -0.0581,  0.0409,  ..., -0.0763,  0.0481,  0.0103],\n",
       "         [-0.0209, -0.0798,  0.0357,  ..., -0.0748,  0.0497,  0.0138],\n",
       "         [-0.0089, -0.0635,  0.0325,  ..., -0.0655,  0.0609,  0.0055]]),\n",
       " 'start_frame': tensor(89)}"
      ]
     },
     "execution_count": 12,
     "metadata": {},
     "output_type": "execute_result"
    }
   ],
   "source": [
    "results[0][0]"
   ]
  },
  {
   "cell_type": "code",
   "execution_count": 13,
   "id": "40f8211e",
   "metadata": {},
   "outputs": [
    {
     "data": {
      "text/plain": [
       "torch.Size([46])"
      ]
     },
     "execution_count": 13,
     "metadata": {},
     "output_type": "execute_result"
    }
   ],
   "source": [
    "results[2][1]['annotations_label'].shape"
   ]
  },
  {
   "cell_type": "code",
   "execution_count": null,
   "id": "df6fcafb",
   "metadata": {},
   "outputs": [],
   "source": []
  }
 ],
 "metadata": {
  "kernelspec": {
   "display_name": "carl",
   "language": "python",
   "name": "carl"
  },
  "language_info": {
   "codemirror_mode": {
    "name": "ipython",
    "version": 3
   },
   "file_extension": ".py",
   "mimetype": "text/x-python",
   "name": "python",
   "nbconvert_exporter": "python",
   "pygments_lexer": "ipython3",
   "version": "3.7.12"
  }
 },
 "nbformat": 4,
 "nbformat_minor": 5
}

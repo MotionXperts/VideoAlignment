{
 "cells": [
  {
   "cell_type": "code",
   "execution_count": 1,
   "metadata": {},
   "outputs": [
    {
     "name": "stdout",
     "output_type": "stream",
     "text": [
      "['/home/c1l1mo/projects/VideoAlignment', '/home/c1l1mo/miniconda3/envs/carl/lib/python37.zip', '/home/c1l1mo/miniconda3/envs/carl/lib/python3.7', '/home/c1l1mo/miniconda3/envs/carl/lib/python3.7/lib-dynload', '', '/home/c1l1mo/.local/lib/python3.7/site-packages', '/home/c1l1mo/testings/HIT', '/home/c1l1mo/miniconda3/envs/carl/lib/python3.7/site-packages', '/home/c1l1mo/.local/lib/python3.7/site-packages/IPython/extensions', '/tmp/tmp40_fvrcc', '/home/c1l1mo/testings/carl', '/home/c1l1mo/testings/carl/utils', '/home/c1l1mo/testings/carl/datasets']\n"
     ]
    }
   ],
   "source": [
    "import sys\n",
    "sys.path.append(\"/home/c1l1mo/testings/carl\")\n",
    "sys.path.append(\"/home/c1l1mo/testings/carl/utils\")\n",
    "sys.path.append(\"/home/c1l1mo/testings/carl/datasets\")\n",
    "print(sys.path)"
   ]
  },
  {
   "cell_type": "code",
   "execution_count": 2,
   "metadata": {},
   "outputs": [
    {
     "name": "stderr",
     "output_type": "stream",
     "text": [
      "/home/c1l1mo/.local/lib/python3.7/site-packages/tqdm/auto.py:21: TqdmWarning: IProgress not found. Please update jupyter and ipywidgets. See https://ipywidgets.readthedocs.io/en/stable/user_install.html\n",
      "  from .autonotebook import tqdm as notebook_tqdm\n"
     ]
    }
   ],
   "source": [
    "from model.transformer.transformer import CARL as Mine_Transformer\n",
    "from models.transformer import TransformerModel as CARL_Transformer"
   ]
  },
  {
   "cell_type": "code",
   "execution_count": 3,
   "metadata": {},
   "outputs": [],
   "source": [
    "import yaml\n",
    "from easydict import EasyDict as edict\n",
    "with open(\"/home/c1l1mo/tmp/scl_transformer_processed_axel_trimmed/config.yml\",\"r\") as file:\n",
    "    cfg = yaml.safe_load(file)\n",
    "cfg = edict(cfg)"
   ]
  },
  {
   "cell_type": "code",
   "execution_count": 4,
   "metadata": {},
   "outputs": [
    {
     "name": "stderr",
     "output_type": "stream",
     "text": [
      "/home/c1l1mo/.local/lib/python3.7/site-packages/torchvision/models/_utils.py:209: UserWarning: The parameter 'pretrained' is deprecated since 0.13 and will be removed in 0.15, please use 'weights' instead.\n",
      "  f\"The parameter '{pretrained_param}' is deprecated since 0.13 and will be removed in 0.15, \"\n",
      "/home/c1l1mo/.local/lib/python3.7/site-packages/torchvision/models/_utils.py:223: UserWarning: Arguments other than a weight enum or `None` for 'weights' are deprecated since 0.13 and will be removed in 0.15. The current behavior is equivalent to passing `weights=ResNet50_Weights.IMAGENET1K_V1`. You can also use `weights=ResNet50_Weights.DEFAULT` to get the most up-to-date weights.\n",
      "  warnings.warn(msg)\n"
     ]
    }
   ],
   "source": [
    "import numpy as np\n",
    "import torch\n",
    "import random\n",
    "\n",
    "def setup_seed(seed):\n",
    "    random.seed(seed)                          \n",
    "    np.random.seed(seed)                       \n",
    "    torch.manual_seed(seed)                    \n",
    "    torch.cuda.manual_seed(seed)               \n",
    "    torch.cuda.manual_seed_all(seed)           \n",
    "    torch.backends.cudnn.deterministic = True  \n",
    "\n",
    "\n",
    "setup_seed(7)\n",
    "\n",
    "mine = Mine_Transformer()\n",
    "cfg.MODEL.PROJECTION = False\n",
    "cfg.MODEL.L2_NORMALIZE= False\n",
    "carl = CARL_Transformer(cfg)"
   ]
  },
  {
   "cell_type": "code",
   "execution_count": 5,
   "metadata": {},
   "outputs": [
    {
     "data": {
      "text/plain": [
       "torch.Size([1, 14, 3, 224, 224])"
      ]
     },
     "execution_count": 5,
     "metadata": {},
     "output_type": "execute_result"
    }
   ],
   "source": [
    "test = torch.rand(1,14,3,224,224)\n",
    "test.shape"
   ]
  },
  {
   "cell_type": "code",
   "execution_count": 20,
   "metadata": {},
   "outputs": [
    {
     "name": "stdout",
     "output_type": "stream",
     "text": [
      "True\n",
      "True\n",
      "True\n",
      "True\n",
      "False\n",
      "False\n",
      "False\n",
      "False\n"
     ]
    }
   ],
   "source": [
    "mine.eval()\n",
    "carl.eval()\n",
    "\n",
    "m_res,m_reshape,m_pooling,m_flatten,m_fc,m_emb,m_tras,m = mine(test)\n",
    "c_res,c_reshape,c_pooling,c_flatten,c_fc,c_emb,c_tras,c = carl(test)\n",
    "\n",
    "print(torch.equal(m_res,c_res))\n",
    "print(torch.equal(m_reshape,c_reshape))\n",
    "print(torch.equal(m_pooling,c_pooling))\n",
    "print(torch.equal(m_flatten,c_flatten))\n",
    "\n",
    "print(torch.equal(m_fc,c_fc))\n",
    "print(torch.equal(m_emb,c_emb))\n",
    "\n",
    "print(torch.equal(m_tras,c_tras))\n",
    "print(torch.equal(m,c))"
   ]
  },
  {
   "cell_type": "code",
   "execution_count": 24,
   "metadata": {},
   "outputs": [
    {
     "name": "stdout",
     "output_type": "stream",
     "text": [
      "tensor([[0.0279, 0.0916, 0.0000,  ..., 0.0000, 0.0000, 0.0000],\n",
      "        [0.1555, 0.0911, 0.0184,  ..., 0.0205, 0.0000, 0.0000],\n",
      "        [0.1228, 0.1918, 0.0000,  ..., 0.0000, 0.0000, 0.0000],\n",
      "        ...,\n",
      "        [0.0761, 0.1314, 0.0439,  ..., 0.0038, 0.0000, 0.0000],\n",
      "        [0.1333, 0.1419, 0.0508,  ..., 0.0033, 0.0000, 0.0000],\n",
      "        [0.0353, 0.1206, 0.0074,  ..., 0.0000, 0.0000, 0.0000]],\n",
      "       grad_fn=<ReluBackward0>)\n"
     ]
    }
   ],
   "source": [
    "print(mine.transformation.fc_layer(m_flatten))"
   ]
  },
  {
   "cell_type": "code",
   "execution_count": 25,
   "metadata": {},
   "outputs": [
    {
     "name": "stdout",
     "output_type": "stream",
     "text": [
      "tensor([[0.0000, 0.2947, 0.0000,  ..., 0.0000, 0.0000, 0.0000],\n",
      "        [0.0000, 0.4153, 0.0000,  ..., 0.0000, 0.0000, 0.0000],\n",
      "        [0.0000, 0.3394, 0.0000,  ..., 0.0000, 0.0000, 0.0000],\n",
      "        ...,\n",
      "        [0.0000, 0.4598, 0.0000,  ..., 0.0000, 0.0000, 0.0000],\n",
      "        [0.0000, 0.5416, 0.0000,  ..., 0.0000, 0.0000, 0.0534],\n",
      "        [0.0000, 0.4129, 0.0000,  ..., 0.0000, 0.0000, 0.0000]],\n",
      "       grad_fn=<ReluBackward0>)\n",
      "tensor([[0.0000, 0.2947, 0.0000,  ..., 0.0000, 0.0000, 0.0000],\n",
      "        [0.0000, 0.4153, 0.0000,  ..., 0.0000, 0.0000, 0.0000],\n",
      "        [0.0000, 0.3394, 0.0000,  ..., 0.0000, 0.0000, 0.0000],\n",
      "        ...,\n",
      "        [0.0000, 0.4598, 0.0000,  ..., 0.0000, 0.0000, 0.0000],\n",
      "        [0.0000, 0.5416, 0.0000,  ..., 0.0000, 0.0000, 0.0534],\n",
      "        [0.0000, 0.4129, 0.0000,  ..., 0.0000, 0.0000, 0.0000]],\n",
      "       grad_fn=<ReluBackward0>)\n",
      "tensor([[0.0000, 0.2947, 0.0000,  ..., 0.0000, 0.0000, 0.0000],\n",
      "        [0.0000, 0.4153, 0.0000,  ..., 0.0000, 0.0000, 0.0000],\n",
      "        [0.0000, 0.3394, 0.0000,  ..., 0.0000, 0.0000, 0.0000],\n",
      "        ...,\n",
      "        [0.0000, 0.4598, 0.0000,  ..., 0.0000, 0.0000, 0.0000],\n",
      "        [0.0000, 0.5416, 0.0000,  ..., 0.0000, 0.0000, 0.0534],\n",
      "        [0.0000, 0.4129, 0.0000,  ..., 0.0000, 0.0000, 0.0000]],\n",
      "       grad_fn=<ReluBackward0>)\n"
     ]
    }
   ],
   "source": [
    "print(carl.embed.fc_layers(m_flatten))\n",
    "print(carl.embed.fc_layers(c_flatten))\n",
    "print(carl.embed.fc_layers(c_flatten))"
   ]
  },
  {
   "cell_type": "code",
   "execution_count": 13,
   "metadata": {},
   "outputs": [
    {
     "data": {
      "text/plain": [
       "False"
      ]
     },
     "execution_count": 13,
     "metadata": {},
     "output_type": "execute_result"
    }
   ],
   "source": [
    "mine.transformation.fc_layer==carl.embed.fc_layers"
   ]
  },
  {
   "cell_type": "code",
   "execution_count": null,
   "metadata": {},
   "outputs": [],
   "source": []
  }
 ],
 "metadata": {
  "kernelspec": {
   "display_name": "carl",
   "language": "python",
   "name": "carl"
  },
  "language_info": {
   "codemirror_mode": {
    "name": "ipython",
    "version": 3
   },
   "file_extension": ".py",
   "mimetype": "text/x-python",
   "name": "python",
   "nbconvert_exporter": "python",
   "pygments_lexer": "ipython3",
   "version": "3.7.9"
  }
 },
 "nbformat": 4,
 "nbformat_minor": 4
}
